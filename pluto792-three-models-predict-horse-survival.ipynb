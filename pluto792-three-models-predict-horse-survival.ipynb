{
 "cells": [
  {
   "cell_type": "markdown",
   "id": "8ff21c85",
   "metadata": {
    "papermill": {
     "duration": 0.007759,
     "end_time": "2023-10-01T23:06:12.660905",
     "exception": false,
     "start_time": "2023-10-01T23:06:12.653146",
     "status": "completed"
    },
    "tags": []
   },
   "source": [
    "<h1> Loading libraries </h1>"
   ]
  },
  {
   "cell_type": "code",
   "execution_count": 1,
   "id": "301f98bb",
   "metadata": {
    "_cell_guid": "b1076dfc-b9ad-4769-8c92-a6c4dae69d19",
    "_uuid": "8f2839f25d086af736a60e9eeb907d3b93b6e0e5",
    "execution": {
     "iopub.execute_input": "2023-10-01T23:06:12.678054Z",
     "iopub.status.busy": "2023-10-01T23:06:12.677718Z",
     "iopub.status.idle": "2023-10-01T23:06:25.301527Z",
     "shell.execute_reply": "2023-10-01T23:06:25.300266Z"
    },
    "papermill": {
     "duration": 12.635286,
     "end_time": "2023-10-01T23:06:25.303901",
     "exception": false,
     "start_time": "2023-10-01T23:06:12.668615",
     "status": "completed"
    },
    "tags": []
   },
   "outputs": [],
   "source": [
    "#basic libraries\n",
    "import numpy as np\n",
    "import pandas as pd \n",
    "\n",
    "#for viewing directories\n",
    "import os\n",
    "\n",
    "#some models to try out\n",
    "from lightgbm import LGBMClassifier\n",
    "from sklearn.ensemble import RandomForestClassifier\n",
    "import tensorflow_decision_forests as tfdf"
   ]
  },
  {
   "cell_type": "markdown",
   "id": "03440b2e",
   "metadata": {
    "papermill": {
     "duration": 0.009061,
     "end_time": "2023-10-01T23:06:25.320816",
     "exception": false,
     "start_time": "2023-10-01T23:06:25.311755",
     "status": "completed"
    },
    "tags": []
   },
   "source": [
    "# Reading files"
   ]
  },
  {
   "cell_type": "code",
   "execution_count": 2,
   "id": "2b42c1b1",
   "metadata": {
    "execution": {
     "iopub.execute_input": "2023-10-01T23:06:25.338062Z",
     "iopub.status.busy": "2023-10-01T23:06:25.336945Z",
     "iopub.status.idle": "2023-10-01T23:06:25.345284Z",
     "shell.execute_reply": "2023-10-01T23:06:25.344612Z"
    },
    "papermill": {
     "duration": 0.019452,
     "end_time": "2023-10-01T23:06:25.347823",
     "exception": false,
     "start_time": "2023-10-01T23:06:25.328371",
     "status": "completed"
    },
    "tags": []
   },
   "outputs": [
    {
     "name": "stdout",
     "output_type": "stream",
     "text": [
      "/kaggle/input/playground-series-s3e22/sample_submission.csv\n",
      "/kaggle/input/playground-series-s3e22/train.csv\n",
      "/kaggle/input/playground-series-s3e22/test.csv\n"
     ]
    }
   ],
   "source": [
    "#viewing directories\n",
    "for dirname, _, filenames in os.walk('/kaggle/input'):\n",
    "    for filename in filenames:\n",
    "        print(os.path.join(dirname, filename))"
   ]
  },
  {
   "cell_type": "code",
   "execution_count": 3,
   "id": "4fef9952",
   "metadata": {
    "execution": {
     "iopub.execute_input": "2023-10-01T23:06:25.365257Z",
     "iopub.status.busy": "2023-10-01T23:06:25.364507Z",
     "iopub.status.idle": "2023-10-01T23:06:25.407372Z",
     "shell.execute_reply": "2023-10-01T23:06:25.406377Z"
    },
    "papermill": {
     "duration": 0.053919,
     "end_time": "2023-10-01T23:06:25.409755",
     "exception": false,
     "start_time": "2023-10-01T23:06:25.355836",
     "status": "completed"
    },
    "tags": []
   },
   "outputs": [],
   "source": [
    "#reading csv files to Pandas dataframes\n",
    "train = pd.read_csv('/kaggle/input/playground-series-s3e22/train.csv')\n",
    "test = pd.read_csv('/kaggle/input/playground-series-s3e22/test.csv')\n",
    "submission = pd.read_csv('/kaggle/input/playground-series-s3e22/sample_submission.csv')"
   ]
  },
  {
   "cell_type": "markdown",
   "id": "80221cca",
   "metadata": {
    "papermill": {
     "duration": 0.007271,
     "end_time": "2023-10-01T23:06:25.424503",
     "exception": false,
     "start_time": "2023-10-01T23:06:25.417232",
     "status": "completed"
    },
    "tags": []
   },
   "source": [
    "# Preparing data"
   ]
  },
  {
   "cell_type": "code",
   "execution_count": 4,
   "id": "307cb8d8",
   "metadata": {
    "execution": {
     "iopub.execute_input": "2023-10-01T23:06:25.441053Z",
     "iopub.status.busy": "2023-10-01T23:06:25.440707Z",
     "iopub.status.idle": "2023-10-01T23:06:25.461202Z",
     "shell.execute_reply": "2023-10-01T23:06:25.460463Z"
    },
    "papermill": {
     "duration": 0.031489,
     "end_time": "2023-10-01T23:06:25.463445",
     "exception": false,
     "start_time": "2023-10-01T23:06:25.431956",
     "status": "completed"
    },
    "tags": []
   },
   "outputs": [],
   "source": [
    "#the 'id' column is unnecessary for predictions\n",
    "train = train.drop('id', axis=1)\n",
    "test = test.drop('id', axis=1)"
   ]
  },
  {
   "cell_type": "code",
   "execution_count": 5,
   "id": "e785679c",
   "metadata": {
    "execution": {
     "iopub.execute_input": "2023-10-01T23:06:25.479807Z",
     "iopub.status.busy": "2023-10-01T23:06:25.479422Z",
     "iopub.status.idle": "2023-10-01T23:06:25.488216Z",
     "shell.execute_reply": "2023-10-01T23:06:25.487483Z"
    },
    "papermill": {
     "duration": 0.019263,
     "end_time": "2023-10-01T23:06:25.490196",
     "exception": false,
     "start_time": "2023-10-01T23:06:25.470933",
     "status": "completed"
    },
    "tags": []
   },
   "outputs": [],
   "source": [
    "#first, the two data files are combined\n",
    "combined = pd.concat([train, test])"
   ]
  },
  {
   "cell_type": "code",
   "execution_count": 6,
   "id": "51550527",
   "metadata": {
    "execution": {
     "iopub.execute_input": "2023-10-01T23:06:25.506510Z",
     "iopub.status.busy": "2023-10-01T23:06:25.506097Z",
     "iopub.status.idle": "2023-10-01T23:06:25.515147Z",
     "shell.execute_reply": "2023-10-01T23:06:25.514032Z"
    },
    "papermill": {
     "duration": 0.019427,
     "end_time": "2023-10-01T23:06:25.516991",
     "exception": false,
     "start_time": "2023-10-01T23:06:25.497564",
     "status": "completed"
    },
    "tags": []
   },
   "outputs": [
    {
     "data": {
      "text/plain": [
       "surgery                   object\n",
       "age                       object\n",
       "hospital_number            int64\n",
       "rectal_temp              float64\n",
       "pulse                    float64\n",
       "respiratory_rate         float64\n",
       "temp_of_extremities       object\n",
       "peripheral_pulse          object\n",
       "mucous_membrane           object\n",
       "capillary_refill_time     object\n",
       "pain                      object\n",
       "peristalsis               object\n",
       "abdominal_distention      object\n",
       "nasogastric_tube          object\n",
       "nasogastric_reflux        object\n",
       "nasogastric_reflux_ph    float64\n",
       "rectal_exam_feces         object\n",
       "abdomen                   object\n",
       "packed_cell_volume       float64\n",
       "total_protein            float64\n",
       "abdomo_appearance         object\n",
       "abdomo_protein           float64\n",
       "surgical_lesion           object\n",
       "lesion_1                   int64\n",
       "lesion_2                   int64\n",
       "lesion_3                   int64\n",
       "cp_data                   object\n",
       "outcome                   object\n",
       "dtype: object"
      ]
     },
     "execution_count": 6,
     "metadata": {},
     "output_type": "execute_result"
    }
   ],
   "source": [
    "combined.dtypes"
   ]
  },
  {
   "cell_type": "code",
   "execution_count": 7,
   "id": "1da33630",
   "metadata": {
    "execution": {
     "iopub.execute_input": "2023-10-01T23:06:25.533699Z",
     "iopub.status.busy": "2023-10-01T23:06:25.533334Z",
     "iopub.status.idle": "2023-10-01T23:06:25.548141Z",
     "shell.execute_reply": "2023-10-01T23:06:25.547195Z"
    },
    "papermill": {
     "duration": 0.025615,
     "end_time": "2023-10-01T23:06:25.550249",
     "exception": false,
     "start_time": "2023-10-01T23:06:25.524634",
     "status": "completed"
    },
    "tags": []
   },
   "outputs": [
    {
     "data": {
      "text/plain": [
       "surgery                  2\n",
       "age                      2\n",
       "temp_of_extremities      4\n",
       "peripheral_pulse         4\n",
       "mucous_membrane          6\n",
       "capillary_refill_time    3\n",
       "pain                     7\n",
       "peristalsis              5\n",
       "abdominal_distention     4\n",
       "nasogastric_tube         3\n",
       "nasogastric_reflux       4\n",
       "rectal_exam_feces        5\n",
       "abdomen                  5\n",
       "abdomo_appearance        3\n",
       "surgical_lesion          2\n",
       "cp_data                  2\n",
       "outcome                  3\n",
       "dtype: int64"
      ]
     },
     "execution_count": 7,
     "metadata": {},
     "output_type": "execute_result"
    }
   ],
   "source": [
    "combined.select_dtypes('object').nunique()"
   ]
  },
  {
   "cell_type": "code",
   "execution_count": 8,
   "id": "ad38454f",
   "metadata": {
    "execution": {
     "iopub.execute_input": "2023-10-01T23:06:25.567438Z",
     "iopub.status.busy": "2023-10-01T23:06:25.567030Z",
     "iopub.status.idle": "2023-10-01T23:06:25.578624Z",
     "shell.execute_reply": "2023-10-01T23:06:25.577377Z"
    },
    "papermill": {
     "duration": 0.022413,
     "end_time": "2023-10-01T23:06:25.580606",
     "exception": false,
     "start_time": "2023-10-01T23:06:25.558193",
     "status": "completed"
    },
    "tags": []
   },
   "outputs": [
    {
     "name": "stdout",
     "output_type": "stream",
     "text": [
      "surgery ['yes' 'no']\n",
      "age ['adult' 'young']\n",
      "temp_of_extremities ['cool' 'cold' 'normal' 'warm' nan]\n",
      "peripheral_pulse ['reduced' 'normal' nan 'absent' 'increased']\n",
      "mucous_membrane ['dark_cyanotic' 'pale_cyanotic' 'pale_pink' 'normal_pink' 'bright_pink'\n",
      " 'bright_red' nan]\n",
      "capillary_refill_time ['more_3_sec' 'less_3_sec' nan '3']\n",
      "pain ['depressed' 'mild_pain' 'extreme_pain' 'alert' 'severe_pain' nan 'slight']\n",
      "peristalsis ['absent' 'hypomotile' 'normal' 'hypermotile' nan 'distend_small']\n",
      "abdominal_distention ['slight' 'moderate' 'none' 'severe' nan]\n",
      "nasogastric_tube ['slight' 'none' 'significant' nan]\n",
      "nasogastric_reflux ['less_1_liter' 'more_1_liter' 'none' nan 'slight']\n",
      "rectal_exam_feces ['decreased' 'absent' nan 'normal' 'increased' 'serosanguious']\n",
      "abdomen ['distend_small' 'distend_large' 'normal' 'firm' nan 'other']\n",
      "abdomo_appearance ['serosanguious' 'cloudy' 'clear' nan]\n",
      "surgical_lesion ['yes' 'no']\n",
      "cp_data ['no' 'yes']\n",
      "outcome ['died' 'euthanized' 'lived']\n"
     ]
    }
   ],
   "source": [
    "for col in combined.select_dtypes('object'):\n",
    "    print(col, train[col].unique())"
   ]
  },
  {
   "cell_type": "code",
   "execution_count": 9,
   "id": "67c30f69",
   "metadata": {
    "execution": {
     "iopub.execute_input": "2023-10-01T23:06:25.597504Z",
     "iopub.status.busy": "2023-10-01T23:06:25.596913Z",
     "iopub.status.idle": "2023-10-01T23:06:25.606248Z",
     "shell.execute_reply": "2023-10-01T23:06:25.605023Z"
    },
    "papermill": {
     "duration": 0.019946,
     "end_time": "2023-10-01T23:06:25.608265",
     "exception": false,
     "start_time": "2023-10-01T23:06:25.588319",
     "status": "completed"
    },
    "tags": []
   },
   "outputs": [
    {
     "name": "stdout",
     "output_type": "stream",
     "text": [
      "1\n",
      "1\n",
      "6\n"
     ]
    }
   ],
   "source": [
    "#checking if certain entries are possibly erroneous\n",
    "print(len(combined[combined['peristalsis'] == 'distend_small']))\n",
    "print(len(combined[combined['nasogastric_reflux'] == 'slight']))\n",
    "print(len(combined[combined['capillary_refill_time'] == '3']))"
   ]
  },
  {
   "cell_type": "code",
   "execution_count": 10,
   "id": "4ddfffb4",
   "metadata": {
    "execution": {
     "iopub.execute_input": "2023-10-01T23:06:25.625219Z",
     "iopub.status.busy": "2023-10-01T23:06:25.624885Z",
     "iopub.status.idle": "2023-10-01T23:06:25.642294Z",
     "shell.execute_reply": "2023-10-01T23:06:25.641480Z"
    },
    "papermill": {
     "duration": 0.028547,
     "end_time": "2023-10-01T23:06:25.644488",
     "exception": false,
     "start_time": "2023-10-01T23:06:25.615941",
     "status": "completed"
    },
    "tags": []
   },
   "outputs": [],
   "source": [
    "#label encoding for certain features\n",
    "combined['temp_of_extremities'] = combined['temp_of_extremities'].map({'cold': 0, 'cool': 1, 'normal': 2, 'warm': 3})\n",
    "combined['peripheral_pulse'] = combined['peripheral_pulse'].map({'absent': 0, 'reduced': 1, 'normal': 2, 'increased': 3})\n",
    "combined['capillary_refill_time'] = combined['capillary_refill_time'].map({'less_3_sec': 0, '3': 1, 'more_3_sec': 2})\n",
    "combined['pain'] = combined['pain'].map({'alert': 0, 'depressed': 1, 'slight': 2, 'mild_pain': 3, 'severe_pain': 4, 'extreme_pain': 5})\n",
    "combined['peristalsis'] = combined['peristalsis'].map({'absent': 0, 'hypomotile': 1, 'normal': 2, 'hypermotile': 3})\n",
    "combined['abdominal_distention'] = combined['abdominal_distention'].map({'none': 0, 'slight': 1, 'moderate': 2, 'severe': 3})\n",
    "combined['nasogastric_tube'] = combined['nasogastric_tube'].map({'none': 0, 'slight': 1, 'significant': 2})\n",
    "combined['nasogastric_reflux'] = combined['nasogastric_reflux'].map({'none': 0, 'less_1_liter': 1, 'more_1_liter': 2})"
   ]
  },
  {
   "cell_type": "code",
   "execution_count": 11,
   "id": "d08faf6f",
   "metadata": {
    "execution": {
     "iopub.execute_input": "2023-10-01T23:06:25.662030Z",
     "iopub.status.busy": "2023-10-01T23:06:25.661573Z",
     "iopub.status.idle": "2023-10-01T23:06:25.675202Z",
     "shell.execute_reply": "2023-10-01T23:06:25.674146Z"
    },
    "papermill": {
     "duration": 0.02474,
     "end_time": "2023-10-01T23:06:25.676962",
     "exception": false,
     "start_time": "2023-10-01T23:06:25.652222",
     "status": "completed"
    },
    "tags": []
   },
   "outputs": [
    {
     "data": {
      "text/plain": [
       "surgery                    2\n",
       "age                        2\n",
       "hospital_number          271\n",
       "rectal_temp               43\n",
       "pulse                     51\n",
       "respiratory_rate          42\n",
       "temp_of_extremities        4\n",
       "peripheral_pulse           4\n",
       "mucous_membrane            6\n",
       "capillary_refill_time      3\n",
       "pain                       6\n",
       "peristalsis                4\n",
       "abdominal_distention       4\n",
       "nasogastric_tube           3\n",
       "nasogastric_reflux         3\n",
       "nasogastric_reflux_ph     30\n",
       "rectal_exam_feces          5\n",
       "abdomen                    5\n",
       "packed_cell_volume        51\n",
       "total_protein             85\n",
       "abdomo_appearance          3\n",
       "abdomo_protein            60\n",
       "surgical_lesion            2\n",
       "lesion_1                  61\n",
       "lesion_2                   5\n",
       "lesion_3                   2\n",
       "cp_data                    2\n",
       "outcome                    3\n",
       "dtype: int64"
      ]
     },
     "execution_count": 11,
     "metadata": {},
     "output_type": "execute_result"
    }
   ],
   "source": [
    "combined.nunique()"
   ]
  },
  {
   "cell_type": "code",
   "execution_count": 12,
   "id": "44d7092e",
   "metadata": {
    "execution": {
     "iopub.execute_input": "2023-10-01T23:06:25.694200Z",
     "iopub.status.busy": "2023-10-01T23:06:25.693865Z",
     "iopub.status.idle": "2023-10-01T23:06:25.702472Z",
     "shell.execute_reply": "2023-10-01T23:06:25.701443Z"
    },
    "papermill": {
     "duration": 0.019913,
     "end_time": "2023-10-01T23:06:25.704727",
     "exception": false,
     "start_time": "2023-10-01T23:06:25.684814",
     "status": "completed"
    },
    "tags": []
   },
   "outputs": [
    {
     "data": {
      "text/plain": [
       "0            died\n",
       "1      euthanized\n",
       "2           lived\n",
       "3           lived\n",
       "4           lived\n",
       "          ...    \n",
       "819           NaN\n",
       "820           NaN\n",
       "821           NaN\n",
       "822           NaN\n",
       "823           NaN\n",
       "Name: outcome, Length: 2059, dtype: object"
      ]
     },
     "execution_count": 12,
     "metadata": {},
     "output_type": "execute_result"
    }
   ],
   "source": [
    "combined['outcome']"
   ]
  },
  {
   "cell_type": "code",
   "execution_count": 13,
   "id": "bbb89f90",
   "metadata": {
    "execution": {
     "iopub.execute_input": "2023-10-01T23:06:25.722386Z",
     "iopub.status.busy": "2023-10-01T23:06:25.721996Z",
     "iopub.status.idle": "2023-10-01T23:06:25.728760Z",
     "shell.execute_reply": "2023-10-01T23:06:25.727743Z"
    },
    "papermill": {
     "duration": 0.01783,
     "end_time": "2023-10-01T23:06:25.730677",
     "exception": false,
     "start_time": "2023-10-01T23:06:25.712847",
     "status": "completed"
    },
    "tags": []
   },
   "outputs": [],
   "source": [
    "outcomes = combined['outcome']\n",
    "combined = combined.drop('outcome', axis=1)"
   ]
  },
  {
   "cell_type": "code",
   "execution_count": 14,
   "id": "80d4865f",
   "metadata": {
    "execution": {
     "iopub.execute_input": "2023-10-01T23:06:25.748087Z",
     "iopub.status.busy": "2023-10-01T23:06:25.747667Z",
     "iopub.status.idle": "2023-10-01T23:06:25.771363Z",
     "shell.execute_reply": "2023-10-01T23:06:25.770612Z"
    },
    "papermill": {
     "duration": 0.035033,
     "end_time": "2023-10-01T23:06:25.773676",
     "exception": false,
     "start_time": "2023-10-01T23:06:25.738643",
     "status": "completed"
    },
    "tags": []
   },
   "outputs": [],
   "source": [
    "#dealing with NaN values\n",
    "#the entries deemed erroneous are now NaN after the label encoding above\n",
    "for col in range(combined.shape[1]):\n",
    "    if combined.iloc[:,col].dtypes != object:\n",
    "        combined.iloc[:,col].fillna(combined.iloc[:,col].mean(), inplace=True)\n",
    "    else:\n",
    "        combined.iloc[:,col].fillna(combined.iloc[:,col].mode()[0], inplace=True)"
   ]
  },
  {
   "cell_type": "code",
   "execution_count": 15,
   "id": "0a703d68",
   "metadata": {
    "execution": {
     "iopub.execute_input": "2023-10-01T23:06:25.791470Z",
     "iopub.status.busy": "2023-10-01T23:06:25.790730Z",
     "iopub.status.idle": "2023-10-01T23:06:25.800726Z",
     "shell.execute_reply": "2023-10-01T23:06:25.799691Z"
    },
    "papermill": {
     "duration": 0.021193,
     "end_time": "2023-10-01T23:06:25.802799",
     "exception": false,
     "start_time": "2023-10-01T23:06:25.781606",
     "status": "completed"
    },
    "tags": []
   },
   "outputs": [
    {
     "data": {
      "text/plain": [
       "surgery                  False\n",
       "age                      False\n",
       "hospital_number          False\n",
       "rectal_temp              False\n",
       "pulse                    False\n",
       "respiratory_rate         False\n",
       "temp_of_extremities      False\n",
       "peripheral_pulse         False\n",
       "mucous_membrane          False\n",
       "capillary_refill_time    False\n",
       "pain                     False\n",
       "peristalsis              False\n",
       "abdominal_distention     False\n",
       "nasogastric_tube         False\n",
       "nasogastric_reflux       False\n",
       "nasogastric_reflux_ph    False\n",
       "rectal_exam_feces        False\n",
       "abdomen                  False\n",
       "packed_cell_volume       False\n",
       "total_protein            False\n",
       "abdomo_appearance        False\n",
       "abdomo_protein           False\n",
       "surgical_lesion          False\n",
       "lesion_1                 False\n",
       "lesion_2                 False\n",
       "lesion_3                 False\n",
       "cp_data                  False\n",
       "dtype: bool"
      ]
     },
     "execution_count": 15,
     "metadata": {},
     "output_type": "execute_result"
    }
   ],
   "source": [
    "combined.isna().any()"
   ]
  },
  {
   "cell_type": "code",
   "execution_count": 16,
   "id": "d89f7989",
   "metadata": {
    "execution": {
     "iopub.execute_input": "2023-10-01T23:06:25.820686Z",
     "iopub.status.busy": "2023-10-01T23:06:25.820304Z",
     "iopub.status.idle": "2023-10-01T23:06:25.828847Z",
     "shell.execute_reply": "2023-10-01T23:06:25.827867Z"
    },
    "papermill": {
     "duration": 0.019991,
     "end_time": "2023-10-01T23:06:25.831001",
     "exception": false,
     "start_time": "2023-10-01T23:06:25.811010",
     "status": "completed"
    },
    "tags": []
   },
   "outputs": [
    {
     "data": {
      "text/plain": [
       "0      0.0\n",
       "1      1.0\n",
       "2      2.0\n",
       "3      2.0\n",
       "4      2.0\n",
       "      ... \n",
       "819    NaN\n",
       "820    NaN\n",
       "821    NaN\n",
       "822    NaN\n",
       "823    NaN\n",
       "Name: outcome, Length: 2059, dtype: float64"
      ]
     },
     "execution_count": 16,
     "metadata": {},
     "output_type": "execute_result"
    }
   ],
   "source": [
    "outcomes = outcomes.map({'died': 0, 'euthanized': 1, 'lived': 2})\n",
    "outcomes"
   ]
  },
  {
   "cell_type": "code",
   "execution_count": 17,
   "id": "c5b88a16",
   "metadata": {
    "execution": {
     "iopub.execute_input": "2023-10-01T23:06:25.910615Z",
     "iopub.status.busy": "2023-10-01T23:06:25.910236Z",
     "iopub.status.idle": "2023-10-01T23:06:25.926328Z",
     "shell.execute_reply": "2023-10-01T23:06:25.925477Z"
    },
    "papermill": {
     "duration": 0.028117,
     "end_time": "2023-10-01T23:06:25.928499",
     "exception": false,
     "start_time": "2023-10-01T23:06:25.900382",
     "status": "completed"
    },
    "tags": []
   },
   "outputs": [],
   "source": [
    "combined = pd.get_dummies(combined, drop_first=True)"
   ]
  },
  {
   "cell_type": "code",
   "execution_count": 18,
   "id": "0b2a5b3c",
   "metadata": {
    "execution": {
     "iopub.execute_input": "2023-10-01T23:06:25.947092Z",
     "iopub.status.busy": "2023-10-01T23:06:25.946741Z",
     "iopub.status.idle": "2023-10-01T23:06:25.952221Z",
     "shell.execute_reply": "2023-10-01T23:06:25.951357Z"
    },
    "papermill": {
     "duration": 0.016621,
     "end_time": "2023-10-01T23:06:25.954067",
     "exception": false,
     "start_time": "2023-10-01T23:06:25.937446",
     "status": "completed"
    },
    "tags": []
   },
   "outputs": [],
   "source": [
    "combined['outcome'] = outcomes"
   ]
  },
  {
   "cell_type": "code",
   "execution_count": 19,
   "id": "5ef6384f",
   "metadata": {
    "execution": {
     "iopub.execute_input": "2023-10-01T23:06:25.972376Z",
     "iopub.status.busy": "2023-10-01T23:06:25.971720Z",
     "iopub.status.idle": "2023-10-01T23:06:25.977641Z",
     "shell.execute_reply": "2023-10-01T23:06:25.976968Z"
    },
    "papermill": {
     "duration": 0.01712,
     "end_time": "2023-10-01T23:06:25.979476",
     "exception": false,
     "start_time": "2023-10-01T23:06:25.962356",
     "status": "completed"
    },
    "tags": []
   },
   "outputs": [],
   "source": [
    "final_train = combined[combined['outcome'].notna()]\n",
    "final_test = combined[combined['outcome'].isna()]"
   ]
  },
  {
   "cell_type": "markdown",
   "id": "db346956",
   "metadata": {
    "papermill": {
     "duration": 0.008122,
     "end_time": "2023-10-01T23:06:25.996423",
     "exception": false,
     "start_time": "2023-10-01T23:06:25.988301",
     "status": "completed"
    },
    "tags": []
   },
   "source": [
    "# Models and Submissions"
   ]
  },
  {
   "cell_type": "markdown",
   "id": "909589fd",
   "metadata": {
    "papermill": {
     "duration": 0.008347,
     "end_time": "2023-10-01T23:06:26.013150",
     "exception": false,
     "start_time": "2023-10-01T23:06:26.004803",
     "status": "completed"
    },
    "tags": []
   },
   "source": [
    "## Preparation: Splitting of data"
   ]
  },
  {
   "cell_type": "markdown",
   "id": "b2c1a635",
   "metadata": {
    "papermill": {
     "duration": 0.007834,
     "end_time": "2023-10-01T23:06:26.029597",
     "exception": false,
     "start_time": "2023-10-01T23:06:26.021763",
     "status": "completed"
    },
    "tags": []
   },
   "source": [
    "## Model 1: lightgbm.LGBMClassifier\n",
    "A **gradient-boosting** framework based on decision trees."
   ]
  },
  {
   "cell_type": "code",
   "execution_count": 20,
   "id": "59b0335b",
   "metadata": {
    "execution": {
     "iopub.execute_input": "2023-10-01T23:06:26.047787Z",
     "iopub.status.busy": "2023-10-01T23:06:26.047201Z",
     "iopub.status.idle": "2023-10-01T23:06:26.054389Z",
     "shell.execute_reply": "2023-10-01T23:06:26.053290Z"
    },
    "papermill": {
     "duration": 0.018679,
     "end_time": "2023-10-01T23:06:26.056373",
     "exception": false,
     "start_time": "2023-10-01T23:06:26.037694",
     "status": "completed"
    },
    "tags": []
   },
   "outputs": [],
   "source": [
    "X_train = final_train.drop(columns=['outcome'], axis=1)\n",
    "y_train = final_train['outcome']\n",
    "X_test = final_test.drop(columns=['outcome'], axis=1)"
   ]
  },
  {
   "cell_type": "code",
   "execution_count": 21,
   "id": "fba64004",
   "metadata": {
    "execution": {
     "iopub.execute_input": "2023-10-01T23:06:26.075055Z",
     "iopub.status.busy": "2023-10-01T23:06:26.074412Z",
     "iopub.status.idle": "2023-10-01T23:06:27.990905Z",
     "shell.execute_reply": "2023-10-01T23:06:27.989828Z"
    },
    "papermill": {
     "duration": 1.928538,
     "end_time": "2023-10-01T23:06:27.993343",
     "exception": false,
     "start_time": "2023-10-01T23:06:26.064805",
     "status": "completed"
    },
    "tags": []
   },
   "outputs": [],
   "source": [
    "model1 = LGBMClassifier()\n",
    "model1.fit(X_train, y_train)\n",
    "importances = model1.feature_importances_"
   ]
  },
  {
   "cell_type": "code",
   "execution_count": 22,
   "id": "9721a0f8",
   "metadata": {
    "execution": {
     "iopub.execute_input": "2023-10-01T23:06:28.012075Z",
     "iopub.status.busy": "2023-10-01T23:06:28.011715Z",
     "iopub.status.idle": "2023-10-01T23:06:28.018769Z",
     "shell.execute_reply": "2023-10-01T23:06:28.017646Z"
    },
    "papermill": {
     "duration": 0.018793,
     "end_time": "2023-10-01T23:06:28.020801",
     "exception": false,
     "start_time": "2023-10-01T23:06:28.002008",
     "status": "completed"
    },
    "tags": []
   },
   "outputs": [
    {
     "data": {
      "text/plain": [
       "4"
      ]
     },
     "execution_count": 22,
     "metadata": {},
     "output_type": "execute_result"
    }
   ],
   "source": [
    "np.where(importances < importances.mean())[0][0]"
   ]
  },
  {
   "cell_type": "code",
   "execution_count": 23,
   "id": "a2e610ee",
   "metadata": {
    "execution": {
     "iopub.execute_input": "2023-10-01T23:06:28.039683Z",
     "iopub.status.busy": "2023-10-01T23:06:28.039253Z",
     "iopub.status.idle": "2023-10-01T23:06:28.081892Z",
     "shell.execute_reply": "2023-10-01T23:06:28.081105Z"
    },
    "papermill": {
     "duration": 0.054863,
     "end_time": "2023-10-01T23:06:28.084094",
     "exception": false,
     "start_time": "2023-10-01T23:06:28.029231",
     "status": "completed"
    },
    "tags": []
   },
   "outputs": [],
   "source": [
    "less_significant = np.where(importances < importances.mean())\n",
    "final_train1 = final_train\n",
    "final_test1 = final_test\n",
    "for i in less_significant[0]:\n",
    "    final_train1.drop(list(final_train1)[i], axis=1)\n",
    "    final_test1.drop(list(final_test1)[i], axis=1)\n",
    "X_train = final_train1.drop(columns=['outcome'], axis=1)\n",
    "y_train = final_train1['outcome']\n",
    "X_test = final_test1.drop(columns=['outcome'], axis=1)"
   ]
  },
  {
   "cell_type": "code",
   "execution_count": 24,
   "id": "1cdc6d3d",
   "metadata": {
    "execution": {
     "iopub.execute_input": "2023-10-01T23:06:28.102725Z",
     "iopub.status.busy": "2023-10-01T23:06:28.102355Z",
     "iopub.status.idle": "2023-10-01T23:06:30.093809Z",
     "shell.execute_reply": "2023-10-01T23:06:30.092620Z"
    },
    "papermill": {
     "duration": 2.003741,
     "end_time": "2023-10-01T23:06:30.096291",
     "exception": false,
     "start_time": "2023-10-01T23:06:28.092550",
     "status": "completed"
    },
    "tags": []
   },
   "outputs": [],
   "source": [
    "model1 = LGBMClassifier()\n",
    "model1.fit(X_train, y_train)\n",
    "prediction1 = model1.predict(X_test)"
   ]
  },
  {
   "cell_type": "code",
   "execution_count": 25,
   "id": "106a91e0",
   "metadata": {
    "execution": {
     "iopub.execute_input": "2023-10-01T23:06:30.115175Z",
     "iopub.status.busy": "2023-10-01T23:06:30.114835Z",
     "iopub.status.idle": "2023-10-01T23:06:30.138168Z",
     "shell.execute_reply": "2023-10-01T23:06:30.137257Z"
    },
    "papermill": {
     "duration": 0.035473,
     "end_time": "2023-10-01T23:06:30.140247",
     "exception": false,
     "start_time": "2023-10-01T23:06:30.104774",
     "status": "completed"
    },
    "tags": []
   },
   "outputs": [
    {
     "data": {
      "text/html": [
       "<div>\n",
       "<style scoped>\n",
       "    .dataframe tbody tr th:only-of-type {\n",
       "        vertical-align: middle;\n",
       "    }\n",
       "\n",
       "    .dataframe tbody tr th {\n",
       "        vertical-align: top;\n",
       "    }\n",
       "\n",
       "    .dataframe thead th {\n",
       "        text-align: right;\n",
       "    }\n",
       "</style>\n",
       "<table border=\"1\" class=\"dataframe\">\n",
       "  <thead>\n",
       "    <tr style=\"text-align: right;\">\n",
       "      <th></th>\n",
       "      <th>id</th>\n",
       "      <th>outcome</th>\n",
       "    </tr>\n",
       "  </thead>\n",
       "  <tbody>\n",
       "    <tr>\n",
       "      <th>0</th>\n",
       "      <td>1235</td>\n",
       "      <td>lived</td>\n",
       "    </tr>\n",
       "    <tr>\n",
       "      <th>1</th>\n",
       "      <td>1236</td>\n",
       "      <td>died</td>\n",
       "    </tr>\n",
       "    <tr>\n",
       "      <th>2</th>\n",
       "      <td>1237</td>\n",
       "      <td>lived</td>\n",
       "    </tr>\n",
       "    <tr>\n",
       "      <th>3</th>\n",
       "      <td>1238</td>\n",
       "      <td>euthanized</td>\n",
       "    </tr>\n",
       "    <tr>\n",
       "      <th>4</th>\n",
       "      <td>1239</td>\n",
       "      <td>lived</td>\n",
       "    </tr>\n",
       "    <tr>\n",
       "      <th>...</th>\n",
       "      <td>...</td>\n",
       "      <td>...</td>\n",
       "    </tr>\n",
       "    <tr>\n",
       "      <th>819</th>\n",
       "      <td>2054</td>\n",
       "      <td>died</td>\n",
       "    </tr>\n",
       "    <tr>\n",
       "      <th>820</th>\n",
       "      <td>2055</td>\n",
       "      <td>euthanized</td>\n",
       "    </tr>\n",
       "    <tr>\n",
       "      <th>821</th>\n",
       "      <td>2056</td>\n",
       "      <td>died</td>\n",
       "    </tr>\n",
       "    <tr>\n",
       "      <th>822</th>\n",
       "      <td>2057</td>\n",
       "      <td>lived</td>\n",
       "    </tr>\n",
       "    <tr>\n",
       "      <th>823</th>\n",
       "      <td>2058</td>\n",
       "      <td>lived</td>\n",
       "    </tr>\n",
       "  </tbody>\n",
       "</table>\n",
       "<p>824 rows × 2 columns</p>\n",
       "</div>"
      ],
      "text/plain": [
       "       id     outcome\n",
       "0    1235       lived\n",
       "1    1236        died\n",
       "2    1237       lived\n",
       "3    1238  euthanized\n",
       "4    1239       lived\n",
       "..    ...         ...\n",
       "819  2054        died\n",
       "820  2055  euthanized\n",
       "821  2056        died\n",
       "822  2057       lived\n",
       "823  2058       lived\n",
       "\n",
       "[824 rows x 2 columns]"
      ]
     },
     "execution_count": 25,
     "metadata": {},
     "output_type": "execute_result"
    }
   ],
   "source": [
    "submission1 = submission\n",
    "submission1['outcome'] = prediction1\n",
    "submission1['outcome'] = submission1['outcome'].map({0:'died',1:'euthanized',2:'lived'})\n",
    "submission1.to_csv('submission_lgbm.csv',index=False)\n",
    "submission1"
   ]
  },
  {
   "cell_type": "markdown",
   "id": "c8830589",
   "metadata": {
    "papermill": {
     "duration": 0.008961,
     "end_time": "2023-10-01T23:06:30.158524",
     "exception": false,
     "start_time": "2023-10-01T23:06:30.149563",
     "status": "completed"
    },
    "tags": []
   },
   "source": [
    "## Model 2: sklearn.ensemble.RandomForestClassifier\n",
    "scikit learn's random forest classifier."
   ]
  },
  {
   "cell_type": "code",
   "execution_count": 26,
   "id": "b5207657",
   "metadata": {
    "execution": {
     "iopub.execute_input": "2023-10-01T23:06:30.177576Z",
     "iopub.status.busy": "2023-10-01T23:06:30.177170Z",
     "iopub.status.idle": "2023-10-01T23:06:30.184169Z",
     "shell.execute_reply": "2023-10-01T23:06:30.183085Z"
    },
    "papermill": {
     "duration": 0.019197,
     "end_time": "2023-10-01T23:06:30.186302",
     "exception": false,
     "start_time": "2023-10-01T23:06:30.167105",
     "status": "completed"
    },
    "tags": []
   },
   "outputs": [],
   "source": [
    "X_train = final_train.drop(columns=['outcome'], axis=1)\n",
    "y_train = final_train['outcome']\n",
    "X_test = final_test.drop(columns=['outcome'], axis=1)"
   ]
  },
  {
   "cell_type": "code",
   "execution_count": 27,
   "id": "27ea09eb",
   "metadata": {
    "execution": {
     "iopub.execute_input": "2023-10-01T23:06:30.205695Z",
     "iopub.status.busy": "2023-10-01T23:06:30.205297Z",
     "iopub.status.idle": "2023-10-01T23:06:30.531205Z",
     "shell.execute_reply": "2023-10-01T23:06:30.530262Z"
    },
    "papermill": {
     "duration": 0.338433,
     "end_time": "2023-10-01T23:06:30.533524",
     "exception": false,
     "start_time": "2023-10-01T23:06:30.195091",
     "status": "completed"
    },
    "tags": []
   },
   "outputs": [],
   "source": [
    "model2 = RandomForestClassifier(n_estimators=100)\n",
    "model2.fit(X_train, y_train)\n",
    "prediction2 = model2.predict(X_test)"
   ]
  },
  {
   "cell_type": "code",
   "execution_count": 28,
   "id": "33ed59c3",
   "metadata": {
    "execution": {
     "iopub.execute_input": "2023-10-01T23:06:30.555499Z",
     "iopub.status.busy": "2023-10-01T23:06:30.555127Z",
     "iopub.status.idle": "2023-10-01T23:06:30.571200Z",
     "shell.execute_reply": "2023-10-01T23:06:30.570162Z"
    },
    "papermill": {
     "duration": 0.03011,
     "end_time": "2023-10-01T23:06:30.573191",
     "exception": false,
     "start_time": "2023-10-01T23:06:30.543081",
     "status": "completed"
    },
    "tags": []
   },
   "outputs": [
    {
     "data": {
      "text/html": [
       "<div>\n",
       "<style scoped>\n",
       "    .dataframe tbody tr th:only-of-type {\n",
       "        vertical-align: middle;\n",
       "    }\n",
       "\n",
       "    .dataframe tbody tr th {\n",
       "        vertical-align: top;\n",
       "    }\n",
       "\n",
       "    .dataframe thead th {\n",
       "        text-align: right;\n",
       "    }\n",
       "</style>\n",
       "<table border=\"1\" class=\"dataframe\">\n",
       "  <thead>\n",
       "    <tr style=\"text-align: right;\">\n",
       "      <th></th>\n",
       "      <th>id</th>\n",
       "      <th>outcome</th>\n",
       "    </tr>\n",
       "  </thead>\n",
       "  <tbody>\n",
       "    <tr>\n",
       "      <th>0</th>\n",
       "      <td>1235</td>\n",
       "      <td>lived</td>\n",
       "    </tr>\n",
       "    <tr>\n",
       "      <th>1</th>\n",
       "      <td>1236</td>\n",
       "      <td>died</td>\n",
       "    </tr>\n",
       "    <tr>\n",
       "      <th>2</th>\n",
       "      <td>1237</td>\n",
       "      <td>lived</td>\n",
       "    </tr>\n",
       "    <tr>\n",
       "      <th>3</th>\n",
       "      <td>1238</td>\n",
       "      <td>euthanized</td>\n",
       "    </tr>\n",
       "    <tr>\n",
       "      <th>4</th>\n",
       "      <td>1239</td>\n",
       "      <td>lived</td>\n",
       "    </tr>\n",
       "    <tr>\n",
       "      <th>...</th>\n",
       "      <td>...</td>\n",
       "      <td>...</td>\n",
       "    </tr>\n",
       "    <tr>\n",
       "      <th>819</th>\n",
       "      <td>2054</td>\n",
       "      <td>died</td>\n",
       "    </tr>\n",
       "    <tr>\n",
       "      <th>820</th>\n",
       "      <td>2055</td>\n",
       "      <td>euthanized</td>\n",
       "    </tr>\n",
       "    <tr>\n",
       "      <th>821</th>\n",
       "      <td>2056</td>\n",
       "      <td>died</td>\n",
       "    </tr>\n",
       "    <tr>\n",
       "      <th>822</th>\n",
       "      <td>2057</td>\n",
       "      <td>lived</td>\n",
       "    </tr>\n",
       "    <tr>\n",
       "      <th>823</th>\n",
       "      <td>2058</td>\n",
       "      <td>lived</td>\n",
       "    </tr>\n",
       "  </tbody>\n",
       "</table>\n",
       "<p>824 rows × 2 columns</p>\n",
       "</div>"
      ],
      "text/plain": [
       "       id     outcome\n",
       "0    1235       lived\n",
       "1    1236        died\n",
       "2    1237       lived\n",
       "3    1238  euthanized\n",
       "4    1239       lived\n",
       "..    ...         ...\n",
       "819  2054        died\n",
       "820  2055  euthanized\n",
       "821  2056        died\n",
       "822  2057       lived\n",
       "823  2058       lived\n",
       "\n",
       "[824 rows x 2 columns]"
      ]
     },
     "execution_count": 28,
     "metadata": {},
     "output_type": "execute_result"
    }
   ],
   "source": [
    "submission2 = submission\n",
    "submission2['outcome'] = prediction2\n",
    "submission2['outcome'] = submission2['outcome'].map({0:'died',1:'euthanized',2:'lived'})\n",
    "submission2.to_csv('submission_sklearn.csv',index=False)\n",
    "submission2"
   ]
  },
  {
   "cell_type": "markdown",
   "id": "813de437",
   "metadata": {
    "papermill": {
     "duration": 0.008494,
     "end_time": "2023-10-01T23:06:30.590855",
     "exception": false,
     "start_time": "2023-10-01T23:06:30.582361",
     "status": "completed"
    },
    "tags": []
   },
   "source": [
    "## Model 3: tfdf.keras.RandomForestModel\n",
    "Tensorflow's random forest model."
   ]
  },
  {
   "cell_type": "code",
   "execution_count": 29,
   "id": "8e43932e",
   "metadata": {
    "execution": {
     "iopub.execute_input": "2023-10-01T23:06:30.610249Z",
     "iopub.status.busy": "2023-10-01T23:06:30.609532Z",
     "iopub.status.idle": "2023-10-01T23:06:30.647188Z",
     "shell.execute_reply": "2023-10-01T23:06:30.645908Z"
    },
    "papermill": {
     "duration": 0.049967,
     "end_time": "2023-10-01T23:06:30.649522",
     "exception": false,
     "start_time": "2023-10-01T23:06:30.599555",
     "status": "completed"
    },
    "tags": []
   },
   "outputs": [],
   "source": [
    "def bool_to_int(df, view=False):\n",
    "    for col in range(df.shape[1]):\n",
    "        if df.iloc[:,col].dtypes == bool:\n",
    "            df.iloc[:,col] = df.iloc[:,col].map({False: 0, True: 1})\n",
    "    if view:\n",
    "        return df\n",
    "bool_to_int(final_train)\n",
    "bool_to_int(final_test)"
   ]
  },
  {
   "cell_type": "code",
   "execution_count": 30,
   "id": "0fc5a23d",
   "metadata": {
    "execution": {
     "iopub.execute_input": "2023-10-01T23:06:30.669587Z",
     "iopub.status.busy": "2023-10-01T23:06:30.668891Z",
     "iopub.status.idle": "2023-10-01T23:06:30.675933Z",
     "shell.execute_reply": "2023-10-01T23:06:30.675205Z"
    },
    "papermill": {
     "duration": 0.019531,
     "end_time": "2023-10-01T23:06:30.677894",
     "exception": false,
     "start_time": "2023-10-01T23:06:30.658363",
     "status": "completed"
    },
    "tags": []
   },
   "outputs": [],
   "source": [
    "X_train = final_train.drop(columns=['outcome'], axis=1)\n",
    "y_train = final_train['outcome']\n",
    "X_test = final_test.drop(columns=['outcome'], axis=1)"
   ]
  },
  {
   "cell_type": "code",
   "execution_count": 31,
   "id": "b159ce25",
   "metadata": {
    "execution": {
     "iopub.execute_input": "2023-10-01T23:06:30.697698Z",
     "iopub.status.busy": "2023-10-01T23:06:30.697007Z",
     "iopub.status.idle": "2023-10-01T23:06:41.056071Z",
     "shell.execute_reply": "2023-10-01T23:06:41.054909Z"
    },
    "papermill": {
     "duration": 10.371908,
     "end_time": "2023-10-01T23:06:41.058683",
     "exception": false,
     "start_time": "2023-10-01T23:06:30.686775",
     "status": "completed"
    },
    "tags": []
   },
   "outputs": [
    {
     "name": "stdout",
     "output_type": "stream",
     "text": [
      "Use /tmp/tmpmqpjcvpu as temporary training directory\n",
      "Reading training dataset...\n",
      "Training dataset read in 0:00:05.075987. Found 1235 examples.\n",
      "Training model...\n"
     ]
    },
    {
     "name": "stderr",
     "output_type": "stream",
     "text": [
      "[INFO 23-10-01 23:06:37.5665 UTC kernel.cc:1243] Loading model from path /tmp/tmpmqpjcvpu/model/ with prefix dedbae8f386d4816\n"
     ]
    },
    {
     "name": "stdout",
     "output_type": "stream",
     "text": [
      "Model trained in 0:00:02.024928\n",
      "Compiling model...\n"
     ]
    },
    {
     "name": "stderr",
     "output_type": "stream",
     "text": [
      "[INFO 23-10-01 23:06:37.9823 UTC decision_forest.cc:660] Model loaded with 300 root(s), 83872 node(s), and 37 input feature(s).\n",
      "[INFO 23-10-01 23:06:37.9824 UTC abstract_model.cc:1311] Engine \"RandomForestGeneric\" built\n",
      "[INFO 23-10-01 23:06:37.9824 UTC kernel.cc:1075] Use fast generic engine\n"
     ]
    },
    {
     "name": "stdout",
     "output_type": "stream",
     "text": [
      "WARNING: AutoGraph could not transform <function simple_ml_inference_op_with_handle at 0x7918ea848670> and will run it as-is.\n",
      "Please report this to the TensorFlow team. When filing the bug, set the verbosity to 10 (on Linux, `export AUTOGRAPH_VERBOSITY=10`) and attach the full output.\n",
      "Cause: could not get source code\n",
      "To silence this warning, decorate the function with @tf.autograph.experimental.do_not_convert\n",
      "Model compiled.\n"
     ]
    },
    {
     "data": {
      "text/plain": [
       "<keras.callbacks.History at 0x7918e8a01780>"
      ]
     },
     "execution_count": 31,
     "metadata": {},
     "output_type": "execute_result"
    }
   ],
   "source": [
    "tf_dataset = tfdf.keras.pd_dataframe_to_tf_dataset(final_train, label='outcome')\n",
    "model3 = tfdf.keras.RandomForestModel()\n",
    "model3.fit(tf_dataset)"
   ]
  },
  {
   "cell_type": "code",
   "execution_count": 32,
   "id": "c7348079",
   "metadata": {
    "execution": {
     "iopub.execute_input": "2023-10-01T23:06:41.081297Z",
     "iopub.status.busy": "2023-10-01T23:06:41.080587Z",
     "iopub.status.idle": "2023-10-01T23:06:41.270455Z",
     "shell.execute_reply": "2023-10-01T23:06:41.269225Z"
    },
    "papermill": {
     "duration": 0.203128,
     "end_time": "2023-10-01T23:06:41.272739",
     "exception": false,
     "start_time": "2023-10-01T23:06:41.069611",
     "status": "completed"
    },
    "tags": []
   },
   "outputs": [
    {
     "name": "stdout",
     "output_type": "stream",
     "text": [
      "1/1 [==============================] - 0s 134ms/step\n"
     ]
    }
   ],
   "source": [
    "tf_test = tfdf.keras.pd_dataframe_to_tf_dataset(X_test)\n",
    "prediction3 = model3.predict(tf_test)"
   ]
  },
  {
   "cell_type": "code",
   "execution_count": 33,
   "id": "e8a3159c",
   "metadata": {
    "execution": {
     "iopub.execute_input": "2023-10-01T23:06:41.294420Z",
     "iopub.status.busy": "2023-10-01T23:06:41.294019Z",
     "iopub.status.idle": "2023-10-01T23:06:41.305568Z",
     "shell.execute_reply": "2023-10-01T23:06:41.304635Z"
    },
    "papermill": {
     "duration": 0.024761,
     "end_time": "2023-10-01T23:06:41.307689",
     "exception": false,
     "start_time": "2023-10-01T23:06:41.282928",
     "status": "completed"
    },
    "tags": []
   },
   "outputs": [],
   "source": [
    "temp = []\n",
    "for i in range(len(prediction3)):\n",
    "    temp.append([np.argmax(prediction3[i])])\n",
    "tempdf = pd.DataFrame(temp, columns = ['outcome'])"
   ]
  },
  {
   "cell_type": "code",
   "execution_count": 34,
   "id": "54b4e59b",
   "metadata": {
    "execution": {
     "iopub.execute_input": "2023-10-01T23:06:41.330090Z",
     "iopub.status.busy": "2023-10-01T23:06:41.329739Z",
     "iopub.status.idle": "2023-10-01T23:06:41.345186Z",
     "shell.execute_reply": "2023-10-01T23:06:41.344190Z"
    },
    "papermill": {
     "duration": 0.029649,
     "end_time": "2023-10-01T23:06:41.347641",
     "exception": false,
     "start_time": "2023-10-01T23:06:41.317992",
     "status": "completed"
    },
    "tags": []
   },
   "outputs": [
    {
     "data": {
      "text/html": [
       "<div>\n",
       "<style scoped>\n",
       "    .dataframe tbody tr th:only-of-type {\n",
       "        vertical-align: middle;\n",
       "    }\n",
       "\n",
       "    .dataframe tbody tr th {\n",
       "        vertical-align: top;\n",
       "    }\n",
       "\n",
       "    .dataframe thead th {\n",
       "        text-align: right;\n",
       "    }\n",
       "</style>\n",
       "<table border=\"1\" class=\"dataframe\">\n",
       "  <thead>\n",
       "    <tr style=\"text-align: right;\">\n",
       "      <th></th>\n",
       "      <th>id</th>\n",
       "      <th>outcome</th>\n",
       "    </tr>\n",
       "  </thead>\n",
       "  <tbody>\n",
       "    <tr>\n",
       "      <th>0</th>\n",
       "      <td>1235</td>\n",
       "      <td>lived</td>\n",
       "    </tr>\n",
       "    <tr>\n",
       "      <th>1</th>\n",
       "      <td>1236</td>\n",
       "      <td>died</td>\n",
       "    </tr>\n",
       "    <tr>\n",
       "      <th>2</th>\n",
       "      <td>1237</td>\n",
       "      <td>lived</td>\n",
       "    </tr>\n",
       "    <tr>\n",
       "      <th>3</th>\n",
       "      <td>1238</td>\n",
       "      <td>euthanized</td>\n",
       "    </tr>\n",
       "    <tr>\n",
       "      <th>4</th>\n",
       "      <td>1239</td>\n",
       "      <td>lived</td>\n",
       "    </tr>\n",
       "    <tr>\n",
       "      <th>...</th>\n",
       "      <td>...</td>\n",
       "      <td>...</td>\n",
       "    </tr>\n",
       "    <tr>\n",
       "      <th>819</th>\n",
       "      <td>2054</td>\n",
       "      <td>died</td>\n",
       "    </tr>\n",
       "    <tr>\n",
       "      <th>820</th>\n",
       "      <td>2055</td>\n",
       "      <td>euthanized</td>\n",
       "    </tr>\n",
       "    <tr>\n",
       "      <th>821</th>\n",
       "      <td>2056</td>\n",
       "      <td>died</td>\n",
       "    </tr>\n",
       "    <tr>\n",
       "      <th>822</th>\n",
       "      <td>2057</td>\n",
       "      <td>lived</td>\n",
       "    </tr>\n",
       "    <tr>\n",
       "      <th>823</th>\n",
       "      <td>2058</td>\n",
       "      <td>lived</td>\n",
       "    </tr>\n",
       "  </tbody>\n",
       "</table>\n",
       "<p>824 rows × 2 columns</p>\n",
       "</div>"
      ],
      "text/plain": [
       "       id     outcome\n",
       "0    1235       lived\n",
       "1    1236        died\n",
       "2    1237       lived\n",
       "3    1238  euthanized\n",
       "4    1239       lived\n",
       "..    ...         ...\n",
       "819  2054        died\n",
       "820  2055  euthanized\n",
       "821  2056        died\n",
       "822  2057       lived\n",
       "823  2058       lived\n",
       "\n",
       "[824 rows x 2 columns]"
      ]
     },
     "execution_count": 34,
     "metadata": {},
     "output_type": "execute_result"
    }
   ],
   "source": [
    "submission3 = submission\n",
    "submission3['outcome'] = tempdf\n",
    "submission3['outcome'] = submission3['outcome'].map({0:'died',1:'euthanized',2:'lived'})\n",
    "submission3.to_csv('submission_tf.csv',index=False)\n",
    "submission3"
   ]
  }
 ],
 "metadata": {
  "kernelspec": {
   "display_name": "Python 3",
   "language": "python",
   "name": "python3"
  },
  "language_info": {
   "codemirror_mode": {
    "name": "ipython",
    "version": 3
   },
   "file_extension": ".py",
   "mimetype": "text/x-python",
   "name": "python",
   "nbconvert_exporter": "python",
   "pygments_lexer": "ipython3",
   "version": "3.10.12"
  },
  "papermill": {
   "default_parameters": {},
   "duration": 34.342056,
   "end_time": "2023-10-01T23:06:43.761210",
   "environment_variables": {},
   "exception": null,
   "input_path": "__notebook__.ipynb",
   "output_path": "__notebook__.ipynb",
   "parameters": {},
   "start_time": "2023-10-01T23:06:09.419154",
   "version": "2.4.0"
  }
 },
 "nbformat": 4,
 "nbformat_minor": 5
}
